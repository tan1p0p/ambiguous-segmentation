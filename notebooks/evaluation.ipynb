{
 "cells": [
  {
   "cell_type": "code",
   "execution_count": 1,
   "metadata": {},
   "outputs": [],
   "source": [
    "import os\n",
    "import sys\n",
    "\n",
    "sys.path.append(os.path.join('/home/hassaku/ambiguous-segmentation/scripts/'))\n",
    "\n",
    "import cloudpickle\n",
    "import cv2\n",
    "import matplotlib\n",
    "import matplotlib.pyplot as plt\n",
    "%matplotlib inline\n",
    "import numpy as np\n",
    "from PIL import Image\n",
    "import torch\n",
    "import torch.nn as nn\n",
    "import torch.nn.functional as F\n",
    "from torchvision import transforms\n",
    "from tqdm import tqdm\n",
    "\n",
    "from modules.model import SegNet, DeepImageMatting\n",
    "from utils.data import get_dataloader"
   ]
  },
  {
   "cell_type": "code",
   "execution_count": 2,
   "metadata": {},
   "outputs": [
    {
     "name": "stderr",
     "output_type": "stream",
     "text": [
      "100%|██████████| 200/200 [00:00<00:00, 1591.51it/s]\n",
      "100%|██████████| 200/200 [00:00<00:00, 2395.99it/s]\n",
      "100%|██████████| 200/200 [00:00<00:00, 2303.70it/s]\n",
      "  0%|          | 0/200 [00:00<?, ?it/s]"
     ]
    },
    {
     "name": "stdout",
     "output_type": "stream",
     "text": [
      "Portrait loaded.\n"
     ]
    },
    {
     "name": "stderr",
     "output_type": "stream",
     "text": [
      "100%|██████████| 200/200 [00:00<00:00, 826.21it/s]\n",
      "200it [00:00, 7462.98it/s]"
     ]
    },
    {
     "name": "stdout",
     "output_type": "stream",
     "text": [
      "BG loaded.\n",
      "Finish piling.\n"
     ]
    },
    {
     "name": "stderr",
     "output_type": "stream",
     "text": [
      "\n"
     ]
    }
   ],
   "source": [
    "test_dir = '../data/person_image_dataset/96x64/check/'\n",
    "bg_dir = '../data/MSCOCO/test2017_mini/'\n",
    "dataloader = get_dataloader(test_dir, bg_dir, batch_size=10, data_num=200)"
   ]
  },
  {
   "cell_type": "code",
   "execution_count": 3,
   "metadata": {},
   "outputs": [],
   "source": [
    "with open('/home/hassaku/ambiguous-segmentation/outputs/2019-10-11_01:28/trimap_0150.model', 'rb') as f:\n",
    "    trimap_stage = cloudpickle.load(f)"
   ]
  },
  {
   "cell_type": "code",
   "execution_count": 4,
   "metadata": {},
   "outputs": [
    {
     "data": {
      "text/plain": [
       "DeepImageMatting(\n",
       "  (conv1_1): Conv2d(4, 64, kernel_size=(3, 3), stride=(1, 1), padding=(1, 1))\n",
       "  (conv1_2): Conv2d(64, 64, kernel_size=(3, 3), stride=(1, 1), padding=(1, 1))\n",
       "  (conv2_1): Conv2d(64, 128, kernel_size=(3, 3), stride=(1, 1), padding=(1, 1))\n",
       "  (conv2_2): Conv2d(128, 128, kernel_size=(3, 3), stride=(1, 1), padding=(1, 1))\n",
       "  (conv3_1): Conv2d(128, 256, kernel_size=(3, 3), stride=(1, 1), padding=(1, 1))\n",
       "  (conv3_2): Conv2d(256, 256, kernel_size=(3, 3), stride=(1, 1), padding=(1, 1))\n",
       "  (conv3_3): Conv2d(256, 256, kernel_size=(3, 3), stride=(1, 1), padding=(1, 1))\n",
       "  (conv4_1): Conv2d(256, 512, kernel_size=(3, 3), stride=(1, 1), padding=(1, 1))\n",
       "  (conv4_2): Conv2d(512, 512, kernel_size=(3, 3), stride=(1, 1), padding=(1, 1))\n",
       "  (conv4_3): Conv2d(512, 512, kernel_size=(3, 3), stride=(1, 1), padding=(1, 1))\n",
       "  (conv5_1): Conv2d(512, 512, kernel_size=(3, 3), stride=(1, 1), padding=(1, 1))\n",
       "  (conv5_2): Conv2d(512, 512, kernel_size=(3, 3), stride=(1, 1), padding=(1, 1))\n",
       "  (conv5_3): Conv2d(512, 512, kernel_size=(3, 3), stride=(1, 1), padding=(1, 1))\n",
       "  (conv6_1): Conv2d(512, 512, kernel_size=(3, 3), stride=(1, 1), padding=(1, 1))\n",
       "  (deconv6_1): Conv2d(512, 512, kernel_size=(1, 1), stride=(1, 1))\n",
       "  (deconv5_1): Conv2d(512, 512, kernel_size=(5, 5), stride=(1, 1), padding=(2, 2))\n",
       "  (deconv4_1): Conv2d(512, 256, kernel_size=(5, 5), stride=(1, 1), padding=(2, 2))\n",
       "  (deconv3_1): Conv2d(256, 128, kernel_size=(5, 5), stride=(1, 1), padding=(2, 2))\n",
       "  (deconv2_1): Conv2d(128, 64, kernel_size=(5, 5), stride=(1, 1), padding=(2, 2))\n",
       "  (deconv1_1): Conv2d(64, 64, kernel_size=(5, 5), stride=(1, 1), padding=(2, 2))\n",
       "  (deconv1): Conv2d(64, 1, kernel_size=(5, 5), stride=(1, 1), padding=(2, 2))\n",
       ")"
      ]
     },
     "execution_count": 4,
     "metadata": {},
     "output_type": "execute_result"
    }
   ],
   "source": [
    "matting_stage = DeepImageMatting(stage=1)\n",
    "matting_stage.load_state_dict(torch.load('../models/stage1_sad_54.4.pth')['state_dict'], strict=True)\n",
    "matting_stage.eval()"
   ]
  },
  {
   "cell_type": "code",
   "execution_count": 5,
   "metadata": {},
   "outputs": [],
   "source": [
    "for pile, fg, bg, alpha, trimap in dataloader:\n",
    "    pred_trimap = trimap_stage(fg.cuda())"
   ]
  },
  {
   "cell_type": "code",
   "execution_count": 6,
   "metadata": {},
   "outputs": [],
   "source": [
    "concat = torch.cat((pile, pred_trimap.cpu()), dim=1)\n",
    "upsample = nn.UpsamplingBilinear2d(scale_factor=4)\n",
    "maxpool = nn.MaxPool2d(4)\n",
    "pred_alpha_big, _ = matting_stage(upsample(concat))\n",
    "pred_alpha = maxpool(pred_alpha_big)"
   ]
  },
  {
   "cell_type": "code",
   "execution_count": 7,
   "metadata": {},
   "outputs": [
    {
     "data": {
      "text/plain": [
       "torch.Size([10, 1, 80, 80])"
      ]
     },
     "execution_count": 7,
     "metadata": {},
     "output_type": "execute_result"
    }
   ],
   "source": [
    "refined_trimap = pred_trimap.cpu().where(pred_trimap.cpu() < 0.66, torch.Tensor([1.]))\n",
    "refined_trimap = refined_trimap.cpu().where(pred_trimap.cpu() > 0.33, torch.Tensor([0.]))\n",
    "refined_trimap.shape"
   ]
  },
  {
   "cell_type": "code",
   "execution_count": 19,
   "metadata": {},
   "outputs": [
    {
     "data": {
      "image/png": "[encoded data removed]",
      "text/plain": [
       "<Figure size 2000x500 with 5 Axes>"
      ]
     },
     "metadata": {
      "needs_background": "light"
     },
     "output_type": "display_data"
    }
   ],
   "source": [
    "fig = plt.figure(figsize=(20, 5), dpi=100)\n",
    "for i, imgs in enumerate([fg, pred_trimap, refined_trimap, pred_alpha, alpha]):\n",
    "    sample = imgs[9].cpu().detach().numpy()\n",
    "    if sample.shape[0] == 1:\n",
    "        sample = sample.reshape([80, 80])\n",
    "    else:\n",
    "        sample = sample.transpose((1, 2, 0))\n",
    "    sub = fig.add_subplot(1, 6, i+1)\n",
    "    titles = ['input', 'pred_trimap', 'refined_trimap', 'pred_alpha', 'gt_alpha']\n",
    "    plt.title(titles[i])\n",
    "    sub.imshow(sample, cmap = \"gray\")"
   ]
  },
  {
   "cell_type": "markdown",
   "metadata": {},
   "source": [
    "## test for deep image matting"
   ]
  },
  {
   "cell_type": "code",
   "execution_count": null,
   "metadata": {},
   "outputs": [],
   "source": [
    "transform = transforms.Compose([\n",
    "    transforms.Resize((320, 320)),\n",
    "    transforms.ToTensor()\n",
    "])\n",
    "sample_photo = transform(Image.open('/home/hassaku/ambiguous-segmentation/data/person_image_dataset/96x64/check/origin/00000.jpg'))\n",
    "sample_trimap = transform(Image.open('/home/hassaku/ambiguous-segmentation/data/person_image_dataset/96x64/check/trimap/00000.jpg').convert('L'))\n",
    "sample_concat = torch.cat((sample_photo, sample_trimap), dim=0).view(1, 4, 320, 320)"
   ]
  },
  {
   "cell_type": "code",
   "execution_count": null,
   "metadata": {},
   "outputs": [],
   "source": [
    "matting_stage = DeepImageMatting()\n",
    "pred_alpha_big, _ = matting_stage(concat)"
   ]
  },
  {
   "cell_type": "code",
   "execution_count": null,
   "metadata": {},
   "outputs": [],
   "source": [
    "mse = torch.nn.functional.mse_loss"
   ]
  },
  {
   "cell_type": "code",
   "execution_count": null,
   "metadata": {},
   "outputs": [],
   "source": [
    "sample_photo1 = transform(Image.open('/home/hassaku/ambiguous-segmentation/data/person_image_dataset/96x64/check/origin/00000.jpg'))\n",
    "sample_photo2 = transform(Image.open('/home/hassaku/ambiguous-segmentation/data/person_image_dataset/96x64/check/origin/00192.jpg'))"
   ]
  },
  {
   "cell_type": "code",
   "execution_count": null,
   "metadata": {},
   "outputs": [],
   "source": [
    "mse(sample_photo1, sample_photo2)"
   ]
  },
  {
   "cell_type": "code",
   "execution_count": null,
   "metadata": {},
   "outputs": [],
   "source": [
    "torch.Tensor(\n",
    "    np.mod(np.arange(16 * 3 * 80 * 80), 3).reshape((16, 80, 80, 3)).transpose(0, 3, 1, 2)\n",
    ")"
   ]
  },
  {
   "cell_type": "markdown",
   "metadata": {},
   "source": [
    "## test for segnet"
   ]
  },
  {
   "cell_type": "code",
   "execution_count": null,
   "metadata": {},
   "outputs": [],
   "source": [
    "test_dir = '../data/person_image_dataset/96x64_one/test/'\n",
    "bg_dir = '../data/MSCOCO/test2017_mini/'\n",
    "dataloader = get_dataloader(test_dir, bg_dir, batch_size=1, data_num=1)\n",
    "# segnet = SegNet().cuda()\n",
    "with open('/home/hassaku/ambiguous-segmentation/outputs/2019-10-09_16:16/trimap_0015.model', 'rb') as f:\n",
    "    segnet = cloudpickle.load(f)\n",
    "mse = nn.MSELoss()\n",
    "optimizer = torch.optim.Adam(segnet.parameters())"
   ]
  },
  {
   "cell_type": "code",
   "execution_count": null,
   "metadata": {},
   "outputs": [],
   "source": [
    "transform = transforms.Compose([\n",
    "    transforms.Resize((80, 80)),\n",
    "    transforms.ToTensor()\n",
    "])\n",
    "trimap_path = '/home/hassaku/ambiguous-segmentation/data/person_image_dataset/96x64_one/train/trimap/00000.jpg'\n",
    "trimap = transform(Image.open(trimap_path).convert('L')).view(1, 1, 80, 80).cuda()"
   ]
  },
  {
   "cell_type": "code",
   "execution_count": null,
   "metadata": {},
   "outputs": [],
   "source": [
    "for pile, fg, bg, alpha in dataloader:\n",
    "    pred_trimap = segnet(pile.cuda())\n",
    "plt.imshow(pred_trimap.cpu().detach().numpy().reshape(80, 80), cmap='gray')"
   ]
  },
  {
   "cell_type": "code",
   "execution_count": null,
   "metadata": {},
   "outputs": [],
   "source": [
    "for i in tqdm(range(5000)):\n",
    "    for pile, fg, bg, alpha in dataloader:\n",
    "        pred_trimap = segnet(pile.cuda())\n",
    "        loss = mse(pred_trimap, trimap)\n",
    "\n",
    "        optimizer.zero_grad()\n",
    "        loss.backward()\n",
    "        optimizer.step()\n",
    "        \n",
    "        if i % 1000 == 0:\n",
    "            print('{} loss: {}'.format(i, loss.item()))"
   ]
  },
  {
   "cell_type": "code",
   "execution_count": null,
   "metadata": {},
   "outputs": [],
   "source": [
    "plt.imshow(pred_trimap.cpu().detach().numpy().reshape(80, 80), cmap='gray')"
   ]
  },
  {
   "cell_type": "markdown",
   "metadata": {},
   "source": [
    "## see pile"
   ]
  },
  {
   "cell_type": "code",
   "execution_count": null,
   "metadata": {},
   "outputs": [],
   "source": [
    "with open('/home/hassaku/ambiguous-segmentation/pred_pile.torch', 'rb') as f:\n",
    "    pred_pile = cloudpickle.load(f)\n",
    "plt.imshow(pred_pile.cpu().detach().numpy().transpose(0, 2, 3, 1).reshape(80, 80, 3))"
   ]
  },
  {
   "cell_type": "code",
   "execution_count": null,
   "metadata": {},
   "outputs": [],
   "source": [
    "with open('/home/hassaku/ambiguous-segmentation/target_pile.torch', 'rb') as f:\n",
    "    target_pile = cloudpickle.load(f)\n",
    "plt.imshow(target_pile.cpu().detach().numpy().transpose(0, 2, 3, 1).reshape(80, 80, 3))"
   ]
  },
  {
   "cell_type": "code",
   "execution_count": null,
   "metadata": {},
   "outputs": [],
   "source": [
    "with open('/home/hassaku/ambiguous-segmentation/pred_alpha.torch', 'rb') as f:\n",
    "    aaa = cloudpickle.load(f)\n",
    "plt.imshow(aaa.cpu().detach().numpy().transpose(0, 2, 3, 1).reshape(80, 80), cmap='gray')"
   ]
  },
  {
   "cell_type": "code",
   "execution_count": null,
   "metadata": {},
   "outputs": [],
   "source": []
  }
 ],
 "metadata": {
  "kernelspec": {
   "display_name": "Python 3",
   "language": "python",
   "name": "python3"
  },
  "language_info": {
   "codemirror_mode": {
    "name": "ipython",
    "version": 3
   },
   "file_extension": ".py",
   "mimetype": "text/x-python",
   "name": "python",
   "nbconvert_exporter": "python",
   "pygments_lexer": "ipython3",
   "version": "3.7.0"
  }
 },
 "nbformat": 4,
 "nbformat_minor": 2
}
