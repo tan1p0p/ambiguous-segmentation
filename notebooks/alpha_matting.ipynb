{
 "cells": [
  {
   "cell_type": "code",
   "execution_count": 93,
   "metadata": {},
   "outputs": [],
   "source": [
    "import json\n",
    "import sys\n",
    "sys.path.append('/home/hassaku/research/ambiguous-segmentation/scripts/')\n",
    "\n",
    "import cv2\n",
    "import matplotlib.pyplot as plt\n",
    "import numpy as np\n",
    "import torch\n",
    "from torchvision import transforms\n",
    "from PIL import Image\n",
    "%matplotlib inline\n",
    "\n",
    "from modules.trainer import Trainer"
   ]
  },
  {
   "cell_type": "code",
   "execution_count": 7,
   "metadata": {
    "collapsed": true
   },
   "outputs": [
    {
     "name": "stderr",
     "output_type": "stream",
     "text": [
      "100%|██████████| 100/100 [00:00<00:00, 292.12it/s]\n",
      "100%|██████████| 100/100 [00:00<00:00, 303.77it/s]\n",
      "100%|██████████| 100/100 [00:00<00:00, 278.07it/s]\n",
      "  0%|          | 0/100 [00:00<?, ?it/s]"
     ]
    },
    {
     "name": "stdout",
     "output_type": "stream",
     "text": [
      "Portrait loaded.\n"
     ]
    },
    {
     "name": "stderr",
     "output_type": "stream",
     "text": [
      "100%|██████████| 100/100 [00:00<00:00, 264.41it/s]\n",
      "100it [00:00, 6973.89it/s]\n",
      "100%|██████████| 10/10 [00:00<00:00, 145.94it/s]\n",
      "100%|██████████| 10/10 [00:00<00:00, 166.89it/s]\n",
      "  0%|          | 0/10 [00:00<?, ?it/s]"
     ]
    },
    {
     "name": "stdout",
     "output_type": "stream",
     "text": [
      "BG loaded.\n",
      "Finish piling.\n",
      "Train images loaded.\n"
     ]
    },
    {
     "name": "stderr",
     "output_type": "stream",
     "text": [
      "100%|██████████| 10/10 [00:00<00:00, 196.17it/s]\n",
      "  0%|          | 0/10 [00:00<?, ?it/s]"
     ]
    },
    {
     "name": "stdout",
     "output_type": "stream",
     "text": [
      "Portrait loaded.\n"
     ]
    },
    {
     "name": "stderr",
     "output_type": "stream",
     "text": [
      "100%|██████████| 10/10 [00:00<00:00, 173.38it/s]\n",
      "10it [00:00, 7598.38it/s]\n"
     ]
    },
    {
     "name": "stdout",
     "output_type": "stream",
     "text": [
      "BG loaded.\n",
      "Finish piling.\n",
      "Test images loaded.\n",
      "Model loaded.\n"
     ]
    }
   ],
   "source": [
    "config = json.load(open('../config_test.json', 'r'))\n",
    "config[\"output_path\"] += \"temp/\"\n",
    "config['is_file_saved'] = False\n",
    "t = Trainer(**config)"
   ]
  },
  {
   "cell_type": "code",
   "execution_count": 21,
   "metadata": {},
   "outputs": [],
   "source": [
    "photo_p = '/home/hassaku/dataset/aisegmentcom-matting-human-datasets/matting_human_half/clip_img/1803151818/clip_00000000/1803151818-00000003.jpg'\n",
    "alpha_p = '/home/hassaku/dataset/aisegmentcom-matting-human-datasets/matting_human_half/matting/1803151818/matting_00000000/1803151818-00000003.png'\n",
    "photo = Image.open(photo_p)\n",
    "alpha = Image.open(alpha_p)"
   ]
  },
  {
   "cell_type": "code",
   "execution_count": 110,
   "metadata": {},
   "outputs": [],
   "source": [
    "transform = transforms.Compose([\n",
    "    transforms.CenterCrop(512),\n",
    "    transforms.ToTensor(),\n",
    "])\n",
    "photo_t = transform(photo)\n",
    "alpha_t = transform(alpha)[3, :, :]"
   ]
  },
  {
   "cell_type": "code",
   "execution_count": 111,
   "metadata": {},
   "outputs": [
    {
     "data": {
      "text/plain": [
       "<matplotlib.image.AxesImage at 0x2b3bacdeee80>"
      ]
     },
     "execution_count": 111,
     "metadata": {},
     "output_type": "execute_result"
    },
    {
     "data": {
      "image/png": "[encoded data removed]",
      "text/plain": [
       "<Figure size 432x288 with 1 Axes>"
      ]
     },
     "metadata": {
      "needs_background": "light"
     },
     "output_type": "display_data"
    }
   ],
   "source": [
    "alpha_np = (alpha_t.numpy() * 255).astype('uint8')\n",
    "alpha_np_rgb = cv2.cvtColor(alpha_np, cv2.COLOR_GRAY2RGB)\n",
    "\n",
    "kernel = np.ones((3, 3), np.uint8)\n",
    "edge = cv2.dilate(cv2.Canny(alpha_np_rgb, 100, 200), kernel, iterations = 20)\n",
    "\n",
    "trimap_np = alpha_np.copy()\n",
    "trimap_np[edge == 255] = 127\n",
    "trimap_t = torch.Tensor(trimap_np.astype('float32') / 255)\n",
    "plt.imshow(trimap_t, cmap='gray')"
   ]
  },
  {
   "cell_type": "code",
   "execution_count": 113,
   "metadata": {},
   "outputs": [],
   "source": [
    "input_tensor = torch.cat((photo_t, trimap_t.view((1,) + trimap_t.shape)))\n",
    "input_tensor = input_tensor.view((1,) + input_tensor.shape).cuda()\n",
    "pred_alpha, _ = t.matting_stage(input_tensor)"
   ]
  },
  {
   "cell_type": "code",
   "execution_count": 122,
   "metadata": {},
   "outputs": [
    {
     "data": {
      "text/plain": [
       "<matplotlib.image.AxesImage at 0x2b3bad195358>"
      ]
     },
     "execution_count": 122,
     "metadata": {},
     "output_type": "execute_result"
    },
    {
     "data": {
      "image/png": "[encoded data removed]",
      "text/plain": [
       "<Figure size 432x288 with 1 Axes>"
      ]
     },
     "metadata": {
      "needs_background": "light"
     },
     "output_type": "display_data"
    }
   ],
   "source": [
    "plt.imshow(pred_alpha[0, 0, :, :].cpu(), cmap='gray')"
   ]
  },
  {
   "cell_type": "code",
   "execution_count": null,
   "metadata": {},
   "outputs": [],
   "source": []
  }
 ],
 "metadata": {
  "kernelspec": {
   "display_name": "Python 3",
   "language": "python",
   "name": "python3"
  },
  "language_info": {
   "codemirror_mode": {
    "name": "ipython",
    "version": 3
   },
   "file_extension": ".py",
   "mimetype": "text/x-python",
   "name": "python",
   "nbconvert_exporter": "python",
   "pygments_lexer": "ipython3",
   "version": "3.7.1"
  }
 },
 "nbformat": 4,
 "nbformat_minor": 2
}
